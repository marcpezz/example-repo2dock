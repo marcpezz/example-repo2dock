{
 "cells": [
  {
   "cell_type": "code",
   "execution_count": 4,
   "id": "4125720d-87f6-44d2-9d2d-f25aa7a3ea07",
   "metadata": {},
   "outputs": [],
   "source": [
    "from __future__ import print_function\n",
    "import argparse\n",
    "import sys\n",
    "import os\n",
    "\n",
    "from omm_readinputs import *\n",
    "from omm_readparams import *\n",
    "from omm_vfswitch import *\n",
    "from omm_barostat import *\n",
    "from omm_restraints import *\n",
    "from omm_rewrap import *\n",
    "\n",
    "\n",
    "from simtk.unit import *\n",
    "from simtk.openmm import *\n",
    "from simtk.openmm.app import *"
   ]
  },
  {
   "cell_type": "code",
   "execution_count": 11,
   "id": "81997618-ed9f-482c-8cd8-1c9577161208",
   "metadata": {
    "tags": []
   },
   "outputs": [
    {
     "name": "stdout",
     "output_type": "stream",
     "text": [
      "Loading parameters\n"
     ]
    }
   ],
   "source": [
    "print(\"Loading parameters\")\n",
    "inputs = read_inputs(\"step4_equilibration.inp\")\n",
    "\n",
    "top = read_top(\"../step3_pbcsetup.psf\")#, args.fftype.upper())\n",
    "crd = read_crd(\"../step3_pbcsetup.crd\")#, args.fftype.upper())\n",
    "params = read_params(\"toppar.str\")\n",
    "top = read_box(top, \"sysinfo.dat\") #if args.sysinfo else gen_box(top, crd)\n",
    "\n"
   ]
  },
  {
   "cell_type": "code",
   "execution_count": 6,
   "id": "7e76686d-6745-4e9a-a511-4df10b48c03f",
   "metadata": {
    "tags": []
   },
   "outputs": [],
   "source": [
    "# Build system\n",
    "nboptions = dict(nonbondedMethod=inputs.coulomb,\n",
    "                 nonbondedCutoff=inputs.r_off*nanometers,\n",
    "                 constraints=inputs.cons,\n",
    "                 ewaldErrorTolerance=inputs.ewald_Tol)\n",
    "if inputs.vdw == 'Switch': nboptions['switchDistance'] = inputs.r_on*nanometers\n",
    "if inputs.vdw == 'LJPME':  nboptions['nonbondedMethod'] = LJPME\n",
    "if inputs.implicitSolvent:\n",
    "    nboptions['implicitSolvent'] = inputs.implicitSolvent\n",
    "    nboptions['implicitSolventSaltConc'] = inputs.implicit_salt*(moles/liter)\n",
    "    nboptions['temperature'] = inputs.temp*kelvin\n",
    "    nboptions['soluteDielectric'] = inputs.solut_diele\n",
    "    nboptions['solventDielectric'] = inputs.solve_diele\n",
    "    nboptions['gbsaModel'] = inputs.gbsamodel\n",
    "\n",
    "system = top.createSystem(params, **nboptions)\n"
   ]
  },
  {
   "cell_type": "code",
   "execution_count": 7,
   "id": "6a46c959-4c71-4051-87ba-e4c904f49c2c",
   "metadata": {
    "tags": []
   },
   "outputs": [],
   "source": [
    "if inputs.vdw == 'Force-switch': system = vfswitch(system, top, inputs)\n",
    "if inputs.lj_lrc == 'yes':\n",
    "    for force in system.getForces():\n",
    "        if isinstance(force, NonbondedForce): force.setUseDispersionCorrection(True)\n",
    "        if isinstance(force, CustomNonbondedForce) and force.getNumTabulatedFunctions() != 1:\n",
    "            force.setUseLongRangeCorrection(True)\n",
    "if inputs.e14scale != 1.0:\n",
    "    for force in system.getForces():\n",
    "        if isinstance(force, NonbondedForce): nonbonded = force; break\n",
    "    for i in range(nonbonded.getNumExceptions()):\n",
    "        atom1, atom2, chg, sig, eps = nonbonded.getExceptionParameters(i)\n",
    "        nonbonded.setExceptionParameters(i, atom1, atom2, chg*inputs.e14scale, sig, eps)\n",
    "\n",
    "if inputs.pcouple == 'yes':      system = barostat(system, inputs)\n",
    "if inputs.rest == 'yes':         system = restraints(system, crd, inputs)\n",
    "integrator = LangevinIntegrator(inputs.temp*kelvin, inputs.fric_coeff/picosecond, inputs.dt*picoseconds)\n"
   ]
  },
  {
   "cell_type": "code",
   "execution_count": 8,
   "id": "d6f3dbd4-b0de-4e37-8377-f76206d77df9",
   "metadata": {
    "tags": []
   },
   "outputs": [
    {
     "name": "stdout",
     "output_type": "stream",
     "text": [
      "Using platform: CPU\n"
     ]
    }
   ],
   "source": [
    "DEFAULT_PLATFORMS = 'CUDA', 'OpenCL', 'CPU'\n",
    "enabled_platforms = [Platform.getPlatform(i).getName() for i in range(Platform.getNumPlatforms())]\n",
    "#if args.platform:\n",
    "#    if not args.platform[0] in enabled_platforms:\n",
    "#        print(\"Unable to find OpenMM platform '{}'; exiting\".format(args.platform[0]), file=sys.stderr)\n",
    "#        sys.exit(1)\n",
    "\n",
    "#    platform = Platform.getPlatformByName(args.platform[0])\n",
    "#else:\n",
    "for platform in DEFAULT_PLATFORMS:\n",
    "    if platform in enabled_platforms:\n",
    "           platform = Platform.getPlatformByName(platform)\n",
    "#            break\n",
    "#    if isinstance(platform, str):\n",
    "#        print(\"Unable to find any OpenMM platform; exiting\".format(args.platform[0]), file=sys.stderr)\n",
    "#        sys.exit(1)\n",
    "\n",
    "print(\"Using platform:\", platform.getName())\n",
    "prop = dict(CudaPrecision='single') if platform.getName() == 'CUDA' else dict()\n"
   ]
  },
  {
   "cell_type": "code",
   "execution_count": 9,
   "id": "e0fa2927-3026-4f0b-bb05-36b1a7bc7a5b",
   "metadata": {
    "tags": []
   },
   "outputs": [],
   "source": [
    "# Build simulation context\n",
    "simulation = Simulation(top.topology, system, integrator, platform, prop)\n",
    "simulation.context.setPositions(crd.positions)\n",
    "#if args.icrst:\n",
    "#    charmm_rst = read_charmm_rst(args.icrst)\n",
    "#    simulation.context.setPositions(charmm_rst.positions)\n",
    "#    simulation.context.setVelocities(charmm_rst.velocities)\n",
    "#    simulation.context.setPeriodicBoxVectors(charmm_rst.box[0], charmm_rst.box[1], charmm_rst.box[2])\n",
    "#if args.irst:\n",
    "#    with open(args.irst, 'r') as f:\n",
    "#        simulation.context.setState(XmlSerializer.deserialize(f.read()))\n",
    "#if args.ichk:\n",
    "#    with open(args.ichk, 'rb') as f:\n",
    "#        simulation.context.loadCheckpoint(f.read())\n",
    "\n",
    "# Re-wrap\n",
    "#if args.rewrap:\n",
    "simulation = rewrap(simulation)\n"
   ]
  },
  {
   "cell_type": "code",
   "execution_count": 10,
   "id": "c87c9685-ffab-4966-838b-7e883ec00944",
   "metadata": {
    "tags": []
   },
   "outputs": [
    {
     "name": "stdout",
     "output_type": "stream",
     "text": [
      "\n",
      "Initial system energy\n",
      "-732264.141583492 kJ/mol\n",
      "\n",
      "Energy minimization: 5000 steps\n",
      "-706561.0709400835 kJ/mol\n"
     ]
    }
   ],
   "source": [
    "# Calculate initial system energy\n",
    "print(\"\\nInitial system energy\")\n",
    "print(simulation.context.getState(getEnergy=True).getPotentialEnergy())\n",
    "\n",
    "if inputs.mini_nstep > 0:\n",
    "    print(\"\\nEnergy minimization: %s steps\" % inputs.mini_nstep)\n",
    "    simulation.minimizeEnergy(tolerance=inputs.mini_Tol*kilojoule/mole, maxIterations=inputs.mini_nstep)\n",
    "    print(simulation.context.getState(getEnergy=True).getPotentialEnergy())\n",
    "\n",
    "    "
   ]
  },
  {
   "cell_type": "code",
   "execution_count": 12,
   "id": "78456a40-1151-4252-97ad-061550601926",
   "metadata": {
    "tags": []
   },
   "outputs": [
    {
     "name": "stdout",
     "output_type": "stream",
     "text": [
      "\n",
      "Generate initial velocities\n"
     ]
    }
   ],
   "source": [
    "# Generate initial velocities\n",
    "if inputs.gen_vel == 'yes':\n",
    "    print(\"\\nGenerate initial velocities\")\n",
    "    if inputs.gen_seed:\n",
    "        simulation.context.setVelocitiesToTemperature(inputs.gen_temp, inputs.gen_seed)\n",
    "    else:\n",
    "        simulation.context.setVelocitiesToTemperature(inputs.gen_temp)"
   ]
  },
  {
   "cell_type": "code",
   "execution_count": null,
   "id": "42e1d0be-01a5-4e48-8985-8f21a2b3e841",
   "metadata": {
    "tags": []
   },
   "outputs": [
    {
     "name": "stdout",
     "output_type": "stream",
     "text": [
      "\n",
      "MD run: 12500 steps\n",
      "#\"Progress (%)\"\t\"Step\"\t\"Time (ps)\"\t\"Potential Energy (kJ/mole)\"\t\"Temperature (K)\"\t\"Speed (ns/day)\"\t\"Time Remaining\"\n",
      "0.8%\t100\t0.10000000000000007\t-656555.4847485155\t191.02482425667083\t0\t--\n",
      "1.6%\t200\t0.20000000000000015\t-656319.9854357947\t211.8034584384032\t0.124\t2:22:27\n",
      "2.4%\t300\t0.3000000000000002\t-655219.4548670377\t224.44445913956542\t0.124\t2:21:13\n",
      "3.2%\t400\t0.4000000000000003\t-652043.6324757973\t231.52151003889378\t0.124\t2:20:44\n",
      "4.0%\t500\t0.5000000000000003\t-650032.9260891739\t238.63859829417487\t0.124\t2:19:41\n",
      "4.8%\t600\t0.6000000000000004\t-647495.9535652\t243.5408002924378\t0.124\t2:18:15\n",
      "5.6%\t700\t0.7000000000000005\t-644955.0715185921\t249.05243205074947\t0.124\t2:16:49\n",
      "6.4%\t800\t0.8000000000000006\t-643224.6627135435\t254.2708204321915\t0.124\t2:15:44\n",
      "7.2%\t900\t0.9000000000000007\t-641926.0102705425\t258.87412553413964\t0.124\t2:14:56\n",
      "8.0%\t1000\t1.0000000000000007\t-639163.8274624547\t262.1456103448104\t0.124\t2:13:37\n",
      "8.8%\t1100\t1.0999999999999897\t-638008.7449846251\t265.68755355945405\t0.124\t2:12:24\n",
      "9.6%\t1200\t1.1999999999999786\t-636520.4254798238\t269.26412893717344\t0.124\t2:11:06\n",
      "10.4%\t1300\t1.2999999999999676\t-634395.1515800395\t270.6298263237192\t0.124\t2:09:49\n",
      "11.2%\t1400\t1.3999999999999566\t-633250.8354925261\t274.397953335064\t0.124\t2:08:47\n",
      "12.0%\t1500\t1.4999999999999456\t-631690.7292198854\t275.2844603500964\t0.124\t2:07:37\n",
      "12.8%\t1600\t1.5999999999999346\t-630388.3012538106\t276.0772827374354\t0.124\t2:06:43\n",
      "13.6%\t1700\t1.6999999999999236\t-629722.8798116515\t278.7366032028807\t0.124\t2:05:41\n",
      "14.4%\t1800\t1.7999999999999126\t-629028.1737648972\t281.31768353024165\t0.124\t2:04:30\n",
      "15.2%\t1900\t1.8999999999999015\t-627603.739795623\t281.1008794990341\t0.124\t2:03:17\n",
      "16.0%\t2000\t1.9999999999998905\t-626242.4921193337\t282.25186109747034\t0.124\t2:02:06\n",
      "16.8%\t2100\t2.0999999999998797\t-625429.0869606513\t282.3631032583526\t0.124\t2:00:56\n",
      "17.6%\t2200\t2.1999999999998687\t-625378.3183335254\t286.44875450854073\t0.124\t1:59:45\n",
      "18.4%\t2300\t2.2999999999998577\t-623471.5450351167\t284.610254355094\t0.124\t1:58:32\n",
      "19.2%\t2400\t2.3999999999998467\t-623669.7977476587\t288.023480284449\t0.124\t1:57:19\n",
      "20.0%\t2500\t2.4999999999998357\t-622399.5954158104\t287.99250573505935\t0.124\t1:56:07\n",
      "20.8%\t2600\t2.5999999999998247\t-621404.8020276137\t288.4261128861767\t0.124\t1:54:57\n",
      "21.6%\t2700\t2.6999999999998137\t-621012.8736822992\t289.09934812674015\t0.124\t1:53:52\n",
      "22.4%\t2800\t2.7999999999998026\t-620237.2702381536\t289.27453354436824\t0.124\t1:52:41\n",
      "23.2%\t2900\t2.8999999999997916\t-619335.2133014323\t290.8301568156831\t0.124\t1:51:29\n",
      "24.0%\t3000\t2.9999999999997806\t-618606.3823074261\t291.4365090347847\t0.124\t1:50:19\n"
     ]
    }
   ],
   "source": [
    "# Production\n",
    "if inputs.nstep > 0:\n",
    "    print(\"\\nMD run: %s steps\" % inputs.nstep)\n",
    "    if inputs.nstdcd > 0:\n",
    "        odcd = 'output.dcd'\n",
    "        simulation.reporters.append(DCDReporter(odcd, inputs.nstdcd))\n",
    "    simulation.reporters.append(\n",
    "        StateDataReporter(sys.stdout, inputs.nstout, step=True, time=True, potentialEnergy=True, temperature=True, progress=True,\n",
    "                          remainingTime=True, speed=True, totalSteps=inputs.nstep, separator='\\t')\n",
    "    )\n",
    "    # Simulated annealing?\n",
    "    if inputs.annealing == 'yes':\n",
    "        interval = inputs.interval\n",
    "        temp = inputs.temp_init\n",
    "        for i in range(inputs.nstep):\n",
    "            integrator.setTemperature(temp*kelvin)\n",
    "            simulation.step(1)\n",
    "            temp += interval\n",
    "    else:\n",
    "        simulation.step(inputs.nstep)"
   ]
  },
  {
   "cell_type": "code",
   "execution_count": null,
   "id": "2fd9e8d4-321d-4853-b5ba-b839f7f98257",
   "metadata": {},
   "outputs": [],
   "source": []
  }
 ],
 "metadata": {
  "kernelspec": {
   "display_name": "omm",
   "language": "python",
   "name": "openmm"
  },
  "language_info": {
   "codemirror_mode": {
    "name": "ipython",
    "version": 3
   },
   "file_extension": ".py",
   "mimetype": "text/x-python",
   "name": "python",
   "nbconvert_exporter": "python",
   "pygments_lexer": "ipython3",
   "version": "3.11.6"
  },
  "toc-autonumbering": true
 },
 "nbformat": 4,
 "nbformat_minor": 5
}
